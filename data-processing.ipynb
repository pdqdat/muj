{
 "cells": [
  {
   "cell_type": "markdown",
   "id": "7ee3944f-617c-485e-860a-9024d399438e",
   "metadata": {},
   "source": [
    "# Analysis and Processing of Medicine Quantity Data from Excel Files"
   ]
  },
  {
   "cell_type": "markdown",
   "id": "b2b342e7-ff38-4341-9846-e65e25f15d24",
   "metadata": {},
   "source": [
    "## I. Libraries import and file configurations"
   ]
  },
  {
   "cell_type": "code",
   "execution_count": 65,
   "id": "84a19ca9-7063-4f7b-b0b1-5153fc71ac63",
   "metadata": {},
   "outputs": [],
   "source": [
    "import pandas as pd # for data manipulation\n",
    "import re # for regular expression operations"
   ]
  },
  {
   "cell_type": "code",
   "execution_count": 66,
   "id": "bb2fa339",
   "metadata": {},
   "outputs": [],
   "source": [
    "# The name of the excel file to be read\n",
    "file_name = 'test.xlsx'\n",
    "\n",
    "# Specify the columns to be read:\n",
    "# - Column 10: Treatment method (phương pháp điều trị)\n",
    "# - Column 11: Name of the doctor (tên bác sĩ)\n",
    "require_cols = [10, 11]\n",
    "\n",
    "# The row number of the header\n",
    "# Every rows before this row will be ignored\n",
    "header_row = 6"
   ]
  },
  {
   "cell_type": "markdown",
   "id": "6a169d25-e8a7-4354-a898-973573fc6c05",
   "metadata": {},
   "source": [
    "## II. Data processing"
   ]
  },
  {
   "cell_type": "markdown",
   "id": "46b849e5-63db-45c7-9632-7ccabecd8886",
   "metadata": {},
   "source": [
    "### Step 1: Load and clean data"
   ]
  },
  {
   "cell_type": "code",
   "execution_count": 67,
   "id": "ebbf7a5e-8c24-4929-80bc-572171569484",
   "metadata": {},
   "outputs": [
    {
     "name": "stdout",
     "output_type": "stream",
     "text": [
      "Data loaded and cleaned successfully!\n",
      "\n",
      "                                Phương pháp điều trị     Y, BS khám bệnh\n",
      "1  SPORAL  100mg SL: 1 SN: 7; LINEZIN  4mg/ml SL:...  TRỊNH THỊ MINH HẢI\n",
      "2  SPORAL  100mg SL: 14 SN: 7; LINEZIN  4mg/ml SL...  TRỊNH THỊ MINH HẢI\n",
      "3  POVIDINE   10%, 20ml SL: 1 SN: ; COTRIMOXAZOLE...         HOÀNG LƯƠNG\n",
      "4  CIPROBAY 500mg SL: 14 SN: 7; ACEMUC  200mg SL:...         HOÀNG LƯƠNG\n",
      "5  METRONIDAZOL  250mg SL: 14 SN: 7; AUGMENTIN  1...         HOÀNG LƯƠNG\n"
     ]
    }
   ],
   "source": [
    "# Read data from the file\n",
    "df = pd.read_excel(file_name, usecols=require_cols, header=header_row)\n",
    "\n",
    "# Drop rows with any missing values\n",
    "df = df.dropna()\n",
    "\n",
    "print('Data loaded and cleaned successfully!\\n')\n",
    "print(df.head())"
   ]
  },
  {
   "cell_type": "markdown",
   "id": "f5a32fe8",
   "metadata": {},
   "source": [
    "### Step 2: Extract doctor names"
   ]
  },
  {
   "cell_type": "code",
   "execution_count": 68,
   "id": "2516c063-5107-46c8-b395-3412eae619a2",
   "metadata": {},
   "outputs": [
    {
     "name": "stdout",
     "output_type": "stream",
     "text": [
      "Doctor names extracted successfully!\n",
      "\n"
     ]
    }
   ],
   "source": [
    "# Extract doctor names from the last column of the DataFrame\n",
    "doctor_names = df.iloc[:, -1]\n",
    "\n",
    "# Remove duplicate names\n",
    "unique_doctor_names = doctor_names.drop_duplicates()\n",
    "\n",
    "# Convert the unique doctor names to a list\n",
    "doctor_names_list = unique_doctor_names.tolist()\n",
    "\n",
    "print('Doctor names extracted successfully!\\n')"
   ]
  },
  {
   "cell_type": "markdown",
   "id": "4ac2db22-4dde-416b-a7c1-9a487f716a2c",
   "metadata": {},
   "source": [
    "### Step 3: Process medicine names and quantities for each doctor"
   ]
  },
  {
   "cell_type": "code",
   "execution_count": 69,
   "id": "116c925d",
   "metadata": {},
   "outputs": [
    {
     "name": "stdout",
     "output_type": "stream",
     "text": [
      "Medicine names and quantities processed successfully!\n",
      "\n",
      "Here are the first 3 medicine names and its quantities prescribed by each doctor:\n",
      "Medicine: SPORAL  100mg\n",
      "  - TRỊNH THỊ MINH HẢI: 15\n",
      "  - HOÀNG LƯƠNG: 0\n",
      "  - TRƯƠNG THẾ ANH: 0\n",
      "  - TRƯƠNG KIM TRI: 0\n",
      "Medicine: LINEZIN  4mg/ml\n",
      "  - TRỊNH THỊ MINH HẢI: 42\n",
      "  - HOÀNG LƯƠNG: 0\n",
      "  - TRƯƠNG THẾ ANH: 0\n",
      "  - TRƯƠNG KIM TRI: 0\n",
      "Medicine: ENTEROGERMINA  4 tỷ/5ml\n",
      "  - TRỊNH THỊ MINH HẢI: 28\n",
      "  - HOÀNG LƯƠNG: 0\n",
      "  - TRƯƠNG THẾ ANH: 0\n",
      "  - TRƯƠNG KIM TRI: 0\n",
      "\n",
      "\n"
     ]
    }
   ],
   "source": [
    "# Create a dictionary to store the medicine names and quantities\n",
    "medicine_dict = {}\n",
    "\n",
    "# Function to parse the medicine name and quantity from a string\n",
    "def parse_medicine(medicine_str):\n",
    "    # Use regular expression to extract the medicine name and its quantity\n",
    "    # E.g.: 'SPORAL  100mg SL: 1 SN: 7' -> name: 'SPORAL  100mg', quantity: '1'\n",
    "    match = re.match(r'(.+?) SL: (\\d+)', medicine_str)\n",
    "\n",
    "    # If the regular expression matches, return the medicine name and quantity\n",
    "    if match:\n",
    "        return match.groups()\n",
    "\n",
    "    # If the regular expression does not match, return 'None' for both\n",
    "    return None, None\n",
    "\n",
    "# Iterate through each row in the DataFrame\n",
    "# to process the medicine names and quantities for each doctor\n",
    "for index, row in df.iterrows():\n",
    "    # Get the doctor name from the last column\n",
    "    doctor_name = row.iloc[-1]\n",
    "\n",
    "    # Get the medicines from the second-to-last column and split them by ';'\n",
    "    medicines = row.iloc[0].split(';')\n",
    "    \n",
    "    # Iterate through each medicine in the list of medicines\n",
    "    for medicine in medicines:\n",
    "        med_name, quantity = parse_medicine(medicine.strip())\n",
    "        \n",
    "        if med_name and quantity:\n",
    "            # If the medicine name is not in the dictionary,\n",
    "            # add it to the dictionary with the doctor names as keys and the quantities as values\n",
    "            if med_name not in medicine_dict:\n",
    "                medicine_dict[med_name] = {doctor: 0 for doctor in doctor_names_list}\n",
    "\n",
    "            # Add the quantity to the corresponding doctor's value in the dictionary\n",
    "            medicine_dict[med_name][doctor_name] += int(quantity)\n",
    "\n",
    "print('Medicine names and quantities processed successfully!\\n')\n",
    "\n",
    "# Print some values of the medicine_dict to the console\n",
    "print('Here are the first 3 medicine names and its quantities prescribed by each doctor:')\n",
    "for med_name, quantities in list(medicine_dict.items())[:3]:\n",
    "    print(f\"Medicine: {med_name}\")\n",
    "\n",
    "    for doctor, quantity in quantities.items():\n",
    "        print(f\"  - {doctor}: {quantity}\")\n",
    "print('\\n')"
   ]
  },
  {
   "cell_type": "markdown",
   "id": "271a6087-5589-45aa-a8d3-d86fb07cc229",
   "metadata": {},
   "source": [
    "### Step 4: Calculate the total quantity of each medicine"
   ]
  },
  {
   "cell_type": "code",
   "execution_count": 70,
   "id": "370a7537",
   "metadata": {},
   "outputs": [
    {
     "name": "stdout",
     "output_type": "stream",
     "text": [
      "Sum of each medicine quantity calculated successfully!\n",
      "\n"
     ]
    }
   ],
   "source": [
    "# Create a DataFrame from the medicine dictionary\n",
    "# with doctor names as columns headers and medicine names as index labels\n",
    "result_df = pd.DataFrame.from_dict(medicine_dict, orient='index', columns=doctor_names_list)\n",
    "\n",
    "# Add a new column 'Total' that contains the sum of all quantities in each row\n",
    "result_df['>>> Total <<<'] = result_df.sum(axis=1)\n",
    "\n",
    "print('Sum of each medicine quantity calculated successfully!\\n')"
   ]
  },
  {
   "cell_type": "markdown",
   "id": "e7d509b6",
   "metadata": {},
   "source": [
    "### Step 5: Write the processed data to a new sheet"
   ]
  },
  {
   "cell_type": "code",
   "execution_count": 71,
   "id": "e0a434e3-7e70-4383-afba-74e55c514dd1",
   "metadata": {},
   "outputs": [
    {
     "name": "stdout",
     "output_type": "stream",
     "text": [
      "Writing results...\n",
      "\n",
      ">>> ALL DONE! <<<\n",
      "Medicine names and quantities of each doctor written to the \"Result\" sheet.\n"
     ]
    }
   ],
   "source": [
    "print('Writing results...\\n')\n",
    "\n",
    "# Write the DataFrame to a new sheet called 'Result'\n",
    "with pd.ExcelWriter(file_name, mode='a', engine='openpyxl', if_sheet_exists='replace') as writer:\n",
    "    result_df.to_excel(writer, sheet_name='Result', startrow=0)\n",
    "\n",
    "print('>>> ALL DONE! <<<')\n",
    "print('Medicine names and quantities of each doctor written to the \"Result\" sheet.')"
   ]
  }
 ],
 "metadata": {
  "kernelspec": {
   "display_name": "Python 3 (ipykernel)",
   "language": "python",
   "name": "python3"
  },
  "language_info": {
   "codemirror_mode": {
    "name": "ipython",
    "version": 3
   },
   "file_extension": ".py",
   "mimetype": "text/x-python",
   "name": "python",
   "nbconvert_exporter": "python",
   "pygments_lexer": "ipython3",
   "version": "3.12.7"
  }
 },
 "nbformat": 4,
 "nbformat_minor": 5
}
