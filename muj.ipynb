{
 "cells": [
  {
   "cell_type": "code",
   "execution_count": 220,
   "id": "84a19ca9-7063-4f7b-b0b1-5153fc71ac63",
   "metadata": {},
   "outputs": [],
   "source": [
    "import pandas as pd # for data manipulation\n",
    "import re # for regular expression operations"
   ]
  },
  {
   "cell_type": "code",
   "execution_count": 221,
   "id": "ebbf7a5e-8c24-4929-80bc-572171569484",
   "metadata": {},
   "outputs": [
    {
     "name": "stdout",
     "output_type": "stream",
     "text": [
      "Excel file read successfully!\n",
      "\n",
      "                                Phương pháp điều trị     Y, BS khám bệnh\n",
      "1  SPORAL  100mg SL: 1 SN: 7; LINEZIN  4mg/ml SL:...  TRỊNH THỊ MINH HẢI\n",
      "2  SPORAL  100mg SL: 14 SN: 7; LINEZIN  4mg/ml SL...  TRỊNH THỊ MINH HẢI\n",
      "3  POVIDINE   10%, 20ml SL: 1 SN: ; COTRIMOXAZOLE...         HOÀNG LƯƠNG\n",
      "4  CIPROBAY 500mg SL: 14 SN: 7; ACEMUC  200mg SL:...         HOÀNG LƯƠNG\n",
      "5  METRONIDAZOL  250mg SL: 14 SN: 7; AUGMENTIN  1...         HOÀNG LƯƠNG\n"
     ]
    }
   ],
   "source": [
    "file_name = 'test.xlsx'\n",
    "# file_name = 'root.xlsx'\n",
    "\n",
    "# Specify the columns to be read:\n",
    "# - Column 10: Treatment method (phương pháp điều trị)\n",
    "# - Column 11: Name of the doctor (tên bác sĩ)\n",
    "require_cols = [10, 11]\n",
    "\n",
    "# Read data from the file\n",
    "df = pd.read_excel(file_name, usecols = require_cols, header = 6)\n",
    "print('Excel file read successfully!\\n')\n",
    "\n",
    "# Drop rows with any missing values\n",
    "df = df.dropna()\n",
    "\n",
    "print(df.head())"
   ]
  },
  {
   "cell_type": "code",
   "execution_count": 222,
   "id": "2516c063-5107-46c8-b395-3412eae619a2",
   "metadata": {},
   "outputs": [
    {
     "name": "stdout",
     "output_type": "stream",
     "text": [
      "Doctor names extracted successfully!\n",
      "\n"
     ]
    }
   ],
   "source": [
    "# Extract doctor names from the last column of the DataFrame\n",
    "doctor_names = df.iloc[:, -1]\n",
    "\n",
    "# Remove duplicate names\n",
    "unique_doctor_names = doctor_names.drop_duplicates()\n",
    "\n",
    "# Convert the unique doctor names to a list\n",
    "doctor_names_list = unique_doctor_names.tolist()\n",
    "\n",
    "print('Doctor names extracted successfully!\\n')"
   ]
  },
  {
   "cell_type": "code",
   "execution_count": null,
   "id": "116c925d",
   "metadata": {},
   "outputs": [
    {
     "name": "stdout",
     "output_type": "stream",
     "text": [
      "Processing doctor: TRỊNH THỊ MINH HẢI\n",
      "['SPORAL  100mg SL: 1 SN: 7', ' LINEZIN  4mg/ml SL: 14 SN: 7', ' ENTEROGERMINA  4 tỷ/5ml SL: 14 SN: 7', ' SMC AG+ 250ml SL: 1 SN: ', ' BACTAMOX  1g SL: 14 SN: 7']\n",
      "Processing doctor: TRỊNH THỊ MINH HẢI\n",
      "['SPORAL  100mg SL: 14 SN: 7', ' LINEZIN  4mg/ml SL: 14 SN: 7', ' ENTEROGERMINA  4 tỷ/5ml SL: 14 SN: 7', ' SMC AG+ 250ml SL: 1 SN: ', ' BACTAMOX  1g SL: 14 SN: 7']\n",
      "Processing doctor: HOÀNG LƯƠNG\n",
      "['POVIDINE   10%, 20ml SL: 1 SN: ', ' COTRIMOXAZOLE  800/160mg SL: 14 SN: 7', ' DECOLGEN ND  SL: 14 SN: 7', ' XISAT Người lớn 75ml SL: 1 SN: ']\n",
      "Processing doctor: HOÀNG LƯƠNG\n",
      "['CIPROBAY 500mg SL: 14 SN: 7', ' ACEMUC  200mg SL: 14 SN: 7', ' TELFAST HD  180mg SL: 7 SN: 7', ' DECOLGEN ND  SL: 14 SN: 7', ' OTRIVIN  0,1% 10ml SL: 1 SN: ']\n",
      "Processing doctor: HOÀNG LƯƠNG\n",
      "['METRONIDAZOL  250mg SL: 14 SN: 7', ' AUGMENTIN  1g SL: 14 SN: 7', ' ATUSSIN TABLETS  SL: 21 SN: 7', ' PHOSPHALUGEL 12,38g/ gói 20g SL: 14 SN: 7', ' MEDROL  16mg SL: 7 SN: 7', ' XISAT Người lớn 75ml SL: 1 SN: ', ' TELFAST HD  180mg SL: 7 SN: 7', ' ACEMUC  200mg SL: 14 SN: 7']\n",
      "Processing doctor: TRỊNH THỊ MINH HẢI\n",
      "['LINEZIN  4mg/ml SL: 14 SN: 7', ' SMC AG+ 250ml SL: 1 SN: ', ' PANADOL  500mg SL: 14 SN: 7', ' MEDROL  16mg SL: 7 SN: 7', ' BILCLAMOS BID 1000mg SL: 14 SN: 7']\n",
      "Processing doctor: HOÀNG LƯƠNG\n",
      "['ULTRACET  37.5mg+325 mg SL: 14 SN: 7', ' CIPROBAY 500mg SL: 14 SN: 7', ' ACEMUC  200mg SL: 14 SN: 7', ' MEDROL  16mg SL: 14 SN: 7', ' TELFAST HD  180mg SL: 7 SN: 7', ' XISAT Người lớn 75ml SL: 1 SN: ', ' TANAKAN  40 mg SL: 14 SN: 7']\n",
      "Processing doctor: TRƯƠNG THẾ ANH\n",
      "['SOREDON NN 5 5mg SL: 10 SN: 5', ' CIPROFLOXACIN  0.3% 5ml SL: 1 SN: ', ' DESLOTID   2.5mg/5ml 30ml SL: 1 SN: ', ' AUGMENTIN  500mg+62.5mg SL: 14 SN: 7']\n",
      "Processing doctor: HOÀNG LƯƠNG\n",
      "['DECOLGEN ND  SL: 10 SN: 5', ' METRONIDAZOL  250mg SL: 10 SN: 5', ' TELFAST HD  180mg SL: 5 SN: 5', ' ACEMUC  200mg SL: 10 SN: 5', ' MEDROL  16mg SL: 5 SN: 5', ' AUGMENTIN  1g SL: 10 SN: 5']\n",
      "Processing doctor: TRƯƠNG KIM TRI\n",
      "['SINOMARIN MINI SPRAY  2,3%  30ml SL: 1 SN: ', ' SOREDON NN 5 5mg SL: 7 SN: 7', ' PRICEFIL SIRO  250mg/ 5ml 30ml SL: 1 SN: ', ' HEDERA siro 100ml SL: 1 SN: ', ' SINOMARIN EAR CARE 30ml SL: 1 SN: ', ' DESLOTID   2.5mg/5ml 30ml SL: 1 SN: ']\n",
      "Medicine names and quantities processed successfully!\n",
      "\n",
      "Here are the first 5 medicine names and its quantities prescribed by each doctor:\n",
      "Medicine: SPORAL  100mg\n",
      "  - TRỊNH THỊ MINH HẢI: 15\n",
      "  - HOÀNG LƯƠNG: 0\n",
      "  - TRƯƠNG THẾ ANH: 0\n",
      "  - TRƯƠNG KIM TRI: 0\n",
      "Medicine: LINEZIN  4mg/ml\n",
      "  - TRỊNH THỊ MINH HẢI: 42\n",
      "  - HOÀNG LƯƠNG: 0\n",
      "  - TRƯƠNG THẾ ANH: 0\n",
      "  - TRƯƠNG KIM TRI: 0\n",
      "Medicine: ENTEROGERMINA  4 tỷ/5ml\n",
      "  - TRỊNH THỊ MINH HẢI: 28\n",
      "  - HOÀNG LƯƠNG: 0\n",
      "  - TRƯƠNG THẾ ANH: 0\n",
      "  - TRƯƠNG KIM TRI: 0\n",
      "Medicine: SMC AG+ 250ml\n",
      "  - TRỊNH THỊ MINH HẢI: 3\n",
      "  - HOÀNG LƯƠNG: 0\n",
      "  - TRƯƠNG THẾ ANH: 0\n",
      "  - TRƯƠNG KIM TRI: 0\n",
      "Medicine: BACTAMOX  1g\n",
      "  - TRỊNH THỊ MINH HẢI: 28\n",
      "  - HOÀNG LƯƠNG: 0\n",
      "  - TRƯƠNG THẾ ANH: 0\n",
      "  - TRƯƠNG KIM TRI: 0\n",
      "\n",
      "\n"
     ]
    }
   ],
   "source": [
    "# Create a dictionary to store the medicine names and quantities\n",
    "medicine_dict = {}\n",
    "\n",
    "# Function to parse medicine name and quantity\n",
    "def parse_medicine(medicine_str):\n",
    "    # Use regular expression to extract the medicine name and its quantity\n",
    "    # E.g.: 'SPORAL  100mg SL: 1 SN: 7' -> name: 'SPORAL  100mg', quantity: '1'\n",
    "    match = re.match(r'(.+?) SL: (\\d+)', medicine_str)\n",
    "\n",
    "    # If the regular expression matches, return the medicine name and quantity\n",
    "    if match:\n",
    "        return match.groups()\n",
    "\n",
    "    # If the regular expression does not match, return 'None' for both\n",
    "    return None, None\n",
    "\n",
    "# Iterate through each row in the DataFrame\n",
    "for index, row in df.iterrows():\n",
    "    # Get the doctor name from the last column\n",
    "    doctor_name = row.iloc[-1]\n",
    "\n",
    "    # Get the medicines from the second-to-last column and split them by ';'\n",
    "    medicines = row.iloc[0].split(';')\n",
    "    \n",
    "    # Iterate through each medicine in the list of medicines\n",
    "    for medicine in medicines:\n",
    "        # Parse the medicine name and quantity using the parse_medicine() function\n",
    "        med_name, quantity = parse_medicine(medicine.strip())\n",
    "        \n",
    "        # If the medicine name and quantity are not None\n",
    "        if med_name and quantity:\n",
    "            # If the medicine name is not in the dictionary,\n",
    "            # add it with the doctor names as keys and the quantities as values\n",
    "            if med_name not in medicine_dict:\n",
    "                medicine_dict[med_name] = {doctor: 0 for doctor in doctor_names_list}\n",
    "\n",
    "            # Add the quantity to the corresponding doctor\n",
    "            medicine_dict[med_name][doctor_name] += int(quantity)\n",
    "\n",
    "print('Medicine names and quantities processed successfully!\\n')\n",
    "\n",
    "# Print some values of the medicine_dict\n",
    "# print('Here are the first 5 medicine names and its:')\n",
    "print('Here are the first 5 medicine names and its quantities prescribed by each doctor:')\n",
    "for med_name, quantities in list(medicine_dict.items())[:5]:\n",
    "    print(f\"Medicine: {med_name}\")\n",
    "\n",
    "    for doctor, quantity in quantities.items():\n",
    "        print(f\"  - {doctor}: {quantity}\")\n",
    "print('\\n')"
   ]
  },
  {
   "cell_type": "code",
   "execution_count": 224,
   "id": "e0a434e3-7e70-4383-afba-74e55c514dd1",
   "metadata": {},
   "outputs": [
    {
     "name": "stdout",
     "output_type": "stream",
     "text": [
      "Writing results...\n",
      "\n",
      ">>> ALL DONE! <<<\n",
      "Medicine names and quantities of each doctor have been written to the \"Result\" sheet.\n"
     ]
    }
   ],
   "source": [
    "# Create a DataFrame from the medicine dictionary\n",
    "# with doctor names as columns headers and medicine names as index labels\n",
    "result_df = pd.DataFrame.from_dict(medicine_dict, orient='index', columns=doctor_names_list)\n",
    "\n",
    "print('Writing results...\\n')\n",
    "# Write the DataFrame to a new sheet called 'Result'\n",
    "with pd.ExcelWriter(file_name, mode='a', engine='openpyxl', if_sheet_exists='replace') as writer:\n",
    "    result_df.to_excel(writer, sheet_name='Result', startrow=0)\n",
    "\n",
    "print('>>> ALL DONE! <<<')\n",
    "print('Medicine names and quantities of each doctor have been written to the \"Result\" sheet.')"
   ]
  }
 ],
 "metadata": {
  "kernelspec": {
   "display_name": "Python 3 (ipykernel)",
   "language": "python",
   "name": "python3"
  },
  "language_info": {
   "codemirror_mode": {
    "name": "ipython",
    "version": 3
   },
   "file_extension": ".py",
   "mimetype": "text/x-python",
   "name": "python",
   "nbconvert_exporter": "python",
   "pygments_lexer": "ipython3",
   "version": "3.12.7"
  }
 },
 "nbformat": 4,
 "nbformat_minor": 5
}
