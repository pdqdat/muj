{
 "cells": [
  {
   "cell_type": "markdown",
   "id": "7ee3944f-617c-485e-860a-9024d399438e",
   "metadata": {},
   "source": [
    "# Xử lý dữ liệu số lượng thuốc từ file Excel"
   ]
  },
  {
   "cell_type": "markdown",
   "id": "b2b342e7-ff38-4341-9846-e65e25f15d24",
   "metadata": {},
   "source": [
    "## I. Import thư viện và cấu hình file"
   ]
  },
  {
   "cell_type": "code",
   "execution_count": 14,
   "id": "84a19ca9-7063-4f7b-b0b1-5153fc71ac63",
   "metadata": {},
   "outputs": [],
   "source": [
    "import pandas as pd\n",
    "import re"
   ]
  },
  {
   "cell_type": "code",
   "execution_count": 15,
   "id": "bb2fa339",
   "metadata": {},
   "outputs": [],
   "source": [
    "# Tên của file Excel cần đọc\n",
    "file_name = 'test.xlsx'\n",
    "\n",
    "# Chỉ định các cột cần đọc:\n",
    "# - Cột 10: Phương pháp điều trị\n",
    "# - Cột 11: Y, BS khám bệnh\n",
    "require_cols = [10, 11]\n",
    "\n",
    "# Chỉ định số hàng của hàng tiêu đề\n",
    "# Tất cả các hàng trước hàng này sẽ bị bỏ qua\n",
    "header_row = 6"
   ]
  },
  {
   "cell_type": "markdown",
   "id": "6a169d25-e8a7-4354-a898-973573fc6c05",
   "metadata": {},
   "source": [
    "## II. Xử lý dữ liệu"
   ]
  },
  {
   "cell_type": "markdown",
   "id": "46b849e5-63db-45c7-9632-7ccabecd8886",
   "metadata": {},
   "source": [
    "### Bước 1: Tải và làm sạch dữ liệu"
   ]
  },
  {
   "cell_type": "code",
   "execution_count": 16,
   "id": "ebbf7a5e-8c24-4929-80bc-572171569484",
   "metadata": {},
   "outputs": [
    {
     "name": "stdout",
     "output_type": "stream",
     "text": [
      "Dữ liệu đã được tải và làm sạch thành công!\n",
      "\n",
      "                                Phương pháp điều trị     Y, BS khám bệnh\n",
      "1  SPORAL  100mg SL: 1 SN: 7; LINEZIN  4mg/ml SL:...  TRỊNH THỊ MINH HẢI\n",
      "2  SPORAL  100mg SL: 14 SN: 7; LINEZIN  4mg/ml SL...  TRỊNH THỊ MINH HẢI\n",
      "3  POVIDINE   10%, 20ml SL: 1 SN: ; COTRIMOXAZOLE...         HOÀNG LƯƠNG\n",
      "4  CIPROBAY 500mg SL: 14 SN: 7; ACEMUC  200mg SL:...         HOÀNG LƯƠNG\n",
      "5  METRONIDAZOL  250mg SL: 14 SN: 7; AUGMENTIN  1...         HOÀNG LƯƠNG\n"
     ]
    }
   ],
   "source": [
    "# Đọc dữ liệu từ file Excel\n",
    "df = pd.read_excel(file_name, usecols=require_cols, header=header_row)\n",
    "\n",
    "# Loại bỏ các hàng bị thiếu giá trị\n",
    "df = df.dropna()\n",
    "\n",
    "print('Dữ liệu đã được tải và làm sạch thành công!\\n')\n",
    "print(df.head())"
   ]
  },
  {
   "cell_type": "markdown",
   "id": "f5a32fe8",
   "metadata": {},
   "source": [
    "### Bước 2: Trích xuất tên bác sĩ"
   ]
  },
  {
   "cell_type": "code",
   "execution_count": 17,
   "id": "2516c063-5107-46c8-b395-3412eae619a2",
   "metadata": {},
   "outputs": [
    {
     "name": "stdout",
     "output_type": "stream",
     "text": [
      "Tên bác sĩ đã được trích xuất thành công!\n",
      "\n"
     ]
    }
   ],
   "source": [
    "# Trích xuất tên bác sĩ từ cột cuối cùng của DataFrame\n",
    "doctor_names = df.iloc[:, -1]\n",
    "\n",
    "# Loại bỏ các tên trùng lặp\n",
    "unique_doctor_names = doctor_names.drop_duplicates()\n",
    "\n",
    "# Chuyển đổi các tên bác sĩ thành dạng danh sách\n",
    "doctor_names_list = unique_doctor_names.tolist()\n",
    "\n",
    "print('Tên bác sĩ đã được trích xuất thành công!\\n')"
   ]
  },
  {
   "cell_type": "markdown",
   "id": "4ac2db22-4dde-416b-a7c1-9a487f716a2c",
   "metadata": {},
   "source": [
    "### Bước 3: Xử lý tên thuốc và số lượng thuốc cho từng bác sĩ "
   ]
  },
  {
   "cell_type": "code",
   "execution_count": 18,
   "id": "116c925d",
   "metadata": {},
   "outputs": [
    {
     "name": "stdout",
     "output_type": "stream",
     "text": [
      "Tên thuốc và số lượng đã được xử lý thành công!\n",
      "\n",
      "Đây là 3 tên thuốc đầu tiên và số lượng của chúng được kê bởi mỗi bác sĩ:\n",
      "\n",
      "Thuốc: SPORAL  100mg\n",
      "  - TRỊNH THỊ MINH HẢI: 15\n",
      "  - HOÀNG LƯƠNG: 0\n",
      "  - TRƯƠNG THẾ ANH: 0\n",
      "  - TRƯƠNG KIM TRI: 0\n",
      "Thuốc: LINEZIN  4mg/ml\n",
      "  - TRỊNH THỊ MINH HẢI: 42\n",
      "  - HOÀNG LƯƠNG: 0\n",
      "  - TRƯƠNG THẾ ANH: 0\n",
      "  - TRƯƠNG KIM TRI: 0\n",
      "Thuốc: ENTEROGERMINA  4 tỷ/5ml\n",
      "  - TRỊNH THỊ MINH HẢI: 28\n",
      "  - HOÀNG LƯƠNG: 0\n",
      "  - TRƯƠNG THẾ ANH: 0\n",
      "  - TRƯƠNG KIM TRI: 0\n",
      "\n",
      "\n"
     ]
    }
   ],
   "source": [
    "# Tạo một từ điển (python dictionary) để lưu trữ tên thuốc và số lượng\n",
    "medicine_dict = {}\n",
    "\n",
    "# Hàm phân tích tên thuốc và số lượng từ một chuỗi\n",
    "def parse_medicine(medicine_str):\n",
    "    # Dùng biểu thức chính quy (regular expression) để trích xuất tên thuốc và số lượng\n",
    "    # Ví dụ: 'SPORAL 100mg SL: 1 SN: 7' -> name: 'SPORAL 100mg', quantity: '1'\n",
    "    match = re.match(r'(.+?) SL: (\\d+)', medicine_str)\n",
    "\n",
    "    if match:\n",
    "        return match.groups()\n",
    "\n",
    "    return None, None\n",
    "\n",
    "# Lặp qua từng hàng trong DataFrame\n",
    "# để xử lý tên thuốc và số lượng cho từng bác sĩ\n",
    "for index, row in df.iterrows():\n",
    "    # Lấy tên bác sĩ từ cột cuối cùng\n",
    "    doctor_name = row.iloc[-1]\n",
    "\n",
    "    # Lấy danh sách thuốc từ cột kế cuối và tách chúng bằng dấu ';'\n",
    "    # Ví dụ: 'SPORAL 100mg SL: 1; SPORAL 200mg SL: 2' -> ['SPORAL 100mg SL: 1', 'SPORAL 200mg SL: 2']\n",
    "    medicines = row.iloc[0].split(';')\n",
    "    \n",
    "    # Lặp qua từng thuốc trong danh sách thuốc\n",
    "    for medicine in medicines:\n",
    "        med_name, quantity = parse_medicine(medicine.strip())\n",
    "        \n",
    "        if med_name and quantity:\n",
    "            if med_name not in medicine_dict:\n",
    "                medicine_dict[med_name] = {doctor: 0 for doctor in doctor_names_list}\n",
    "\n",
    "            medicine_dict[med_name][doctor_name] += int(quantity)\n",
    "\n",
    "print('Tên thuốc và số lượng đã được xử lý thành công!\\n')\n",
    "\n",
    "print('Đây là 3 tên thuốc đầu tiên và số lượng của chúng được kê bởi mỗi bác sĩ:\\n')\n",
    "for med_name, quantities in list(medicine_dict.items())[:3]:\n",
    "    print(f\"Thuốc: {med_name}\")\n",
    "\n",
    "    for doctor, quantity in quantities.items():\n",
    "        print(f\"  - {doctor}: {quantity}\")\n",
    "print('\\n')"
   ]
  },
  {
   "cell_type": "markdown",
   "id": "271a6087-5589-45aa-a8d3-d86fb07cc229",
   "metadata": {},
   "source": [
    "### Bước 4: Tính tổng số lượng của từng loại thuốc"
   ]
  },
  {
   "cell_type": "code",
   "execution_count": 19,
   "id": "370a7537",
   "metadata": {},
   "outputs": [
    {
     "name": "stdout",
     "output_type": "stream",
     "text": [
      "Tổng số lượng thuốc của mỗi bác sĩ đã được tính toán thành công!\n",
      "\n"
     ]
    }
   ],
   "source": [
    "# Tạo DataFrame từ từ điển thuốc\n",
    "# với các tên bác sĩ là tiêu đề cột và tên thuốc là nhãn của các hàng\n",
    "result_df = pd.DataFrame.from_dict(medicine_dict, orient='index', columns=doctor_names_list)\n",
    "\n",
    "# Tạo cột mới 'TỔNG' chứa tổng số lượng thuốc của mỗi bác sĩ\n",
    "result_df['>>> TỔNG <<<'] = result_df.sum(axis=1)\n",
    "\n",
    "print('Tổng số lượng thuốc của mỗi bác sĩ đã được tính toán thành công!\\n')"
   ]
  },
  {
   "cell_type": "markdown",
   "id": "e7d509b6",
   "metadata": {},
   "source": [
    "### Bước 5: Ghi dữ liệu đã xử lý vào một sheet mới trong file Excel"
   ]
  },
  {
   "cell_type": "code",
   "execution_count": 20,
   "id": "e0a434e3-7e70-4383-afba-74e55c514dd1",
   "metadata": {},
   "outputs": [
    {
     "name": "stdout",
     "output_type": "stream",
     "text": [
      "Đang ghi kết quả vào file Excel...\n",
      "\n",
      ">>> ĐÃ XONG! <<<\n",
      "Tên thuốc và số lượng thuốc của mỗi bác sĩ đã được ghi vào sheet \"Kết quả\".\n"
     ]
    }
   ],
   "source": [
    "print('Đang ghi kết quả vào file Excel...\\n')\n",
    "\n",
    "# Ghi kết quả vào sheet mới có tên 'Kết quả'\n",
    "with pd.ExcelWriter(file_name, mode='a', engine='openpyxl', if_sheet_exists='replace') as writer:\n",
    "    result_df.to_excel(writer, sheet_name='Kết quả', startrow=0)\n",
    "\n",
    "print('>>> ĐÃ XONG! <<<')\n",
    "print('Tên thuốc và số lượng thuốc của mỗi bác sĩ đã được ghi vào sheet \"Kết quả\".')"
   ]
  }
 ],
 "metadata": {
  "kernelspec": {
   "display_name": "Python 3 (ipykernel)",
   "language": "python",
   "name": "python3"
  },
  "language_info": {
   "codemirror_mode": {
    "name": "ipython",
    "version": 3
   },
   "file_extension": ".py",
   "mimetype": "text/x-python",
   "name": "python",
   "nbconvert_exporter": "python",
   "pygments_lexer": "ipython3",
   "version": "3.12.7"
  }
 },
 "nbformat": 4,
 "nbformat_minor": 5
}
